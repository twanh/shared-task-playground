{
 "cells": [
  {
   "cell_type": "markdown",
   "id": "f097f50a",
   "metadata": {},
   "source": [
    "# Data exploration Shared Task"
   ]
  },
  {
   "cell_type": "code",
   "execution_count": 39,
   "id": "9364d492",
   "metadata": {},
   "outputs": [],
   "source": [
    "import json\n",
    "from collections import Counter\n",
    "\n",
    "import pandas as pd\n",
    "import matplotlib.pyplot as plt\n",
    "import seaborn as sns\n"
   ]
  },
  {
   "cell_type": "code",
   "execution_count": 40,
   "id": "6fec7dab",
   "metadata": {},
   "outputs": [
    {
     "name": "stdout",
     "output_type": "stream",
     "text": [
      "Dataset shape: (960, 4)\n",
      "\n",
      "Data types:\n",
      " id              object\n",
      "syllogism       object\n",
      "validity          bool\n",
      "plausibility      bool\n",
      "dtype: object\n",
      "\n",
      "Missing values:\n",
      " id              0\n",
      "syllogism       0\n",
      "validity        0\n",
      "plausibility    0\n",
      "dtype: int64\n",
      "Duplicates: 0\n",
      "Unique IDs: True\n"
     ]
    },
    {
     "data": {
      "application/vnd.microsoft.datawrangler.viewer.v0+json": {
       "columns": [
        {
         "name": "index",
         "rawType": "int64",
         "type": "integer"
        },
        {
         "name": "id",
         "rawType": "object",
         "type": "string"
        },
        {
         "name": "syllogism",
         "rawType": "object",
         "type": "string"
        },
        {
         "name": "validity",
         "rawType": "bool",
         "type": "boolean"
        },
        {
         "name": "plausibility",
         "rawType": "bool",
         "type": "boolean"
        }
       ],
       "ref": "375f88d7-e6da-4ba0-812f-21e96d2fe4a0",
       "rows": [
        [
         "0",
         "50146f21-d265-4e3a-8d93-8165cdbe89a3",
         "All cars are a type of vehicle. No animal is a car. Therefore, no animal can be a vehicle.",
         "False",
         "True"
        ],
        [
         "1",
         "dfafb4f6-4e1d-4cd5-aeb4-75d36aafdf1a",
         "Nothing that is a soda is a juice. A portion of the things that are beverages are juices. The only logical conclusion is that some beverages are not sodas.",
         "True",
         "True"
        ],
        [
         "2",
         "e30b1f83-a4c3-49cb-8aaf-5f64208c625b",
         "Everything that is a planet is a celestial body. Anything that is a sun is a celestial body. There exists at least one sun that is a planet.",
         "False",
         "False"
        ],
        [
         "3",
         "a30e07d5-0fb3-4097-9892-4b145b0c54f5",
         "Every cat is an invisible creature. A number of cats are animals. Consequently, a portion of animals are invisible.",
         "True",
         "False"
        ],
        [
         "4",
         "5b8161b7-b1bf-4e16-a854-cd52cdce8a1b",
         "There are no capital cities which are oceans. A select few large cities are classified as capital cities. Therefore, it is clear that some large cities are not oceans.",
         "True",
         "True"
        ]
       ],
       "shape": {
        "columns": 4,
        "rows": 5
       }
      },
      "text/html": [
       "<div>\n",
       "<style scoped>\n",
       "    .dataframe tbody tr th:only-of-type {\n",
       "        vertical-align: middle;\n",
       "    }\n",
       "\n",
       "    .dataframe tbody tr th {\n",
       "        vertical-align: top;\n",
       "    }\n",
       "\n",
       "    .dataframe thead th {\n",
       "        text-align: right;\n",
       "    }\n",
       "</style>\n",
       "<table border=\"1\" class=\"dataframe\">\n",
       "  <thead>\n",
       "    <tr style=\"text-align: right;\">\n",
       "      <th></th>\n",
       "      <th>id</th>\n",
       "      <th>syllogism</th>\n",
       "      <th>validity</th>\n",
       "      <th>plausibility</th>\n",
       "    </tr>\n",
       "  </thead>\n",
       "  <tbody>\n",
       "    <tr>\n",
       "      <th>0</th>\n",
       "      <td>50146f21-d265-4e3a-8d93-8165cdbe89a3</td>\n",
       "      <td>All cars are a type of vehicle. No animal is a...</td>\n",
       "      <td>False</td>\n",
       "      <td>True</td>\n",
       "    </tr>\n",
       "    <tr>\n",
       "      <th>1</th>\n",
       "      <td>dfafb4f6-4e1d-4cd5-aeb4-75d36aafdf1a</td>\n",
       "      <td>Nothing that is a soda is a juice. A portion o...</td>\n",
       "      <td>True</td>\n",
       "      <td>True</td>\n",
       "    </tr>\n",
       "    <tr>\n",
       "      <th>2</th>\n",
       "      <td>e30b1f83-a4c3-49cb-8aaf-5f64208c625b</td>\n",
       "      <td>Everything that is a planet is a celestial bod...</td>\n",
       "      <td>False</td>\n",
       "      <td>False</td>\n",
       "    </tr>\n",
       "    <tr>\n",
       "      <th>3</th>\n",
       "      <td>a30e07d5-0fb3-4097-9892-4b145b0c54f5</td>\n",
       "      <td>Every cat is an invisible creature. A number o...</td>\n",
       "      <td>True</td>\n",
       "      <td>False</td>\n",
       "    </tr>\n",
       "    <tr>\n",
       "      <th>4</th>\n",
       "      <td>5b8161b7-b1bf-4e16-a854-cd52cdce8a1b</td>\n",
       "      <td>There are no capital cities which are oceans. ...</td>\n",
       "      <td>True</td>\n",
       "      <td>True</td>\n",
       "    </tr>\n",
       "  </tbody>\n",
       "</table>\n",
       "</div>"
      ],
      "text/plain": [
       "                                     id  \\\n",
       "0  50146f21-d265-4e3a-8d93-8165cdbe89a3   \n",
       "1  dfafb4f6-4e1d-4cd5-aeb4-75d36aafdf1a   \n",
       "2  e30b1f83-a4c3-49cb-8aaf-5f64208c625b   \n",
       "3  a30e07d5-0fb3-4097-9892-4b145b0c54f5   \n",
       "4  5b8161b7-b1bf-4e16-a854-cd52cdce8a1b   \n",
       "\n",
       "                                           syllogism  validity  plausibility  \n",
       "0  All cars are a type of vehicle. No animal is a...     False          True  \n",
       "1  Nothing that is a soda is a juice. A portion o...      True          True  \n",
       "2  Everything that is a planet is a celestial bod...     False         False  \n",
       "3  Every cat is an invisible creature. A number o...      True         False  \n",
       "4  There are no capital cities which are oceans. ...      True          True  "
      ]
     },
     "execution_count": 40,
     "metadata": {},
     "output_type": "execute_result"
    }
   ],
   "source": [
    "# Load the data from a JSONL file to a DF\n",
    "\n",
    "df = pd.read_json(\"semeval_2026_task_11/train_data/train_data.json\")\n",
    "\n",
    "print(f\"Dataset shape: {df.shape}\")\n",
    "print(\"\\nData types:\\n\", df.dtypes)\n",
    "print(\"\\nMissing values:\\n\", df.isnull().sum())\n",
    "print(f\"Duplicates: {len(df[df.duplicated()])}\")\n",
    "\n",
    "# Check ID uniqueness\n",
    "print(f\"Unique IDs: {df['id'].nunique() == len(df)}\")\n",
    "\n",
    "df.head()"
   ]
  },
  {
   "cell_type": "code",
   "execution_count": 41,
   "id": "b80b5c8f",
   "metadata": {},
   "outputs": [
    {
     "name": "stdout",
     "output_type": "stream",
     "text": [
      "Total samples: 960\n",
      "Validity distribution:\n",
      "validity\n",
      "False    0.5\n",
      "True     0.5\n",
      "Name: proportion, dtype: float64\n",
      "Plausibility distribution:\n",
      "plausibility\n",
      "False    0.50625\n",
      "True     0.49375\n",
      "Name: proportion, dtype: float64\n",
      "Avg length: 134.54\n"
     ]
    }
   ],
   "source": [
    "# Basic stats\n",
    "print(f\"Total samples: {len(df)}\")\n",
    "print(\"Validity distribution:\")\n",
    "print(df['validity'].value_counts(normalize=True))\n",
    "print(\"Plausibility distribution:\")\n",
    "print(df['plausibility'].value_counts(normalize=True))\n",
    "\n",
    "\n",
    "# Syllogism length and parsing\n",
    "df['length'] = df['syllogism'].str.len()\n",
    "print(f\"Avg length: {df['length'].mean():.2f}\")"
   ]
  },
  {
   "cell_type": "code",
   "execution_count": 42,
   "id": "afa4c26b",
   "metadata": {},
   "outputs": [
    {
     "name": "stdout",
     "output_type": "stream",
     "text": [
      "Validity vs Plausibility:\n"
     ]
    },
    {
     "data": {
      "application/vnd.microsoft.datawrangler.viewer.v0+json": {
       "columns": [
        {
         "name": "validity",
         "rawType": "bool",
         "type": "boolean"
        },
        {
         "name": "False",
         "rawType": "float64",
         "type": "float"
        },
        {
         "name": "True",
         "rawType": "float64",
         "type": "float"
        }
       ],
       "ref": "487d6015-1d60-47a4-b9ad-1349000cc0fa",
       "rows": [
        [
         "False",
         "0.5125",
         "0.4875"
        ],
        [
         "True",
         "0.5",
         "0.5"
        ]
       ],
       "shape": {
        "columns": 2,
        "rows": 2
       }
      },
      "text/html": [
       "<div>\n",
       "<style scoped>\n",
       "    .dataframe tbody tr th:only-of-type {\n",
       "        vertical-align: middle;\n",
       "    }\n",
       "\n",
       "    .dataframe tbody tr th {\n",
       "        vertical-align: top;\n",
       "    }\n",
       "\n",
       "    .dataframe thead th {\n",
       "        text-align: right;\n",
       "    }\n",
       "</style>\n",
       "<table border=\"1\" class=\"dataframe\">\n",
       "  <thead>\n",
       "    <tr style=\"text-align: right;\">\n",
       "      <th>plausibility</th>\n",
       "      <th>False</th>\n",
       "      <th>True</th>\n",
       "    </tr>\n",
       "    <tr>\n",
       "      <th>validity</th>\n",
       "      <th></th>\n",
       "      <th></th>\n",
       "    </tr>\n",
       "  </thead>\n",
       "  <tbody>\n",
       "    <tr>\n",
       "      <th>False</th>\n",
       "      <td>0.5125</td>\n",
       "      <td>0.4875</td>\n",
       "    </tr>\n",
       "    <tr>\n",
       "      <th>True</th>\n",
       "      <td>0.5000</td>\n",
       "      <td>0.5000</td>\n",
       "    </tr>\n",
       "  </tbody>\n",
       "</table>\n",
       "</div>"
      ],
      "text/plain": [
       "plausibility   False   True \n",
       "validity                    \n",
       "False         0.5125  0.4875\n",
       "True          0.5000  0.5000"
      ]
     },
     "execution_count": 42,
     "metadata": {},
     "output_type": "execute_result"
    }
   ],
   "source": [
    "# Table showing validity vs plausibility\n",
    "validity_plausibility_table = pd.crosstab(df['validity'], df['plausibility'], normalize='index')\n",
    "print(\"Validity vs Plausibility:\")\n",
    "validity_plausibility_table"
   ]
  },
  {
   "cell_type": "code",
   "execution_count": 43,
   "id": "37025010",
   "metadata": {},
   "outputs": [
    {
     "data": {
      "application/vnd.microsoft.datawrangler.viewer.v0+json": {
       "columns": [
        {
         "name": "index",
         "rawType": "int64",
         "type": "integer"
        },
        {
         "name": "id",
         "rawType": "object",
         "type": "string"
        },
        {
         "name": "syllogism",
         "rawType": "object",
         "type": "string"
        },
        {
         "name": "validity",
         "rawType": "bool",
         "type": "boolean"
        },
        {
         "name": "plausibility",
         "rawType": "bool",
         "type": "boolean"
        },
        {
         "name": "length",
         "rawType": "int64",
         "type": "integer"
        },
        {
         "name": "P1",
         "rawType": "object",
         "type": "string"
        },
        {
         "name": "P2",
         "rawType": "object",
         "type": "string"
        },
        {
         "name": "C",
         "rawType": "object",
         "type": "string"
        }
       ],
       "ref": "7b941010-4a64-49d6-94b3-0da20f65638d",
       "rows": [
        [
         "0",
         "50146f21-d265-4e3a-8d93-8165cdbe89a3",
         "All cars are a type of vehicle. No animal is a car. Therefore, no animal can be a vehicle.",
         "False",
         "True",
         "90",
         "All cars are a type of vehicle",
         " No animal is a car",
         " Therefore, no animal can be a vehicle."
        ],
        [
         "1",
         "dfafb4f6-4e1d-4cd5-aeb4-75d36aafdf1a",
         "Nothing that is a soda is a juice. A portion of the things that are beverages are juices. The only logical conclusion is that some beverages are not sodas.",
         "True",
         "True",
         "155",
         "Nothing that is a soda is a juice",
         " A portion of the things that are beverages are juices",
         " The only logical conclusion is that some beverages are not sodas."
        ],
        [
         "2",
         "e30b1f83-a4c3-49cb-8aaf-5f64208c625b",
         "Everything that is a planet is a celestial body. Anything that is a sun is a celestial body. There exists at least one sun that is a planet.",
         "False",
         "False",
         "140",
         "Everything that is a planet is a celestial body",
         " Anything that is a sun is a celestial body",
         " There exists at least one sun that is a planet."
        ],
        [
         "3",
         "a30e07d5-0fb3-4097-9892-4b145b0c54f5",
         "Every cat is an invisible creature. A number of cats are animals. Consequently, a portion of animals are invisible.",
         "True",
         "False",
         "115",
         "Every cat is an invisible creature",
         " A number of cats are animals",
         " Consequently, a portion of animals are invisible."
        ],
        [
         "4",
         "5b8161b7-b1bf-4e16-a854-cd52cdce8a1b",
         "There are no capital cities which are oceans. A select few large cities are classified as capital cities. Therefore, it is clear that some large cities are not oceans.",
         "True",
         "True",
         "167",
         "There are no capital cities which are oceans",
         " A select few large cities are classified as capital cities",
         " Therefore, it is clear that some large cities are not oceans."
        ]
       ],
       "shape": {
        "columns": 8,
        "rows": 5
       }
      },
      "text/html": [
       "<div>\n",
       "<style scoped>\n",
       "    .dataframe tbody tr th:only-of-type {\n",
       "        vertical-align: middle;\n",
       "    }\n",
       "\n",
       "    .dataframe tbody tr th {\n",
       "        vertical-align: top;\n",
       "    }\n",
       "\n",
       "    .dataframe thead th {\n",
       "        text-align: right;\n",
       "    }\n",
       "</style>\n",
       "<table border=\"1\" class=\"dataframe\">\n",
       "  <thead>\n",
       "    <tr style=\"text-align: right;\">\n",
       "      <th></th>\n",
       "      <th>id</th>\n",
       "      <th>syllogism</th>\n",
       "      <th>validity</th>\n",
       "      <th>plausibility</th>\n",
       "      <th>length</th>\n",
       "      <th>P1</th>\n",
       "      <th>P2</th>\n",
       "      <th>C</th>\n",
       "    </tr>\n",
       "  </thead>\n",
       "  <tbody>\n",
       "    <tr>\n",
       "      <th>0</th>\n",
       "      <td>50146f21-d265-4e3a-8d93-8165cdbe89a3</td>\n",
       "      <td>All cars are a type of vehicle. No animal is a...</td>\n",
       "      <td>False</td>\n",
       "      <td>True</td>\n",
       "      <td>90</td>\n",
       "      <td>All cars are a type of vehicle</td>\n",
       "      <td>No animal is a car</td>\n",
       "      <td>Therefore, no animal can be a vehicle.</td>\n",
       "    </tr>\n",
       "    <tr>\n",
       "      <th>1</th>\n",
       "      <td>dfafb4f6-4e1d-4cd5-aeb4-75d36aafdf1a</td>\n",
       "      <td>Nothing that is a soda is a juice. A portion o...</td>\n",
       "      <td>True</td>\n",
       "      <td>True</td>\n",
       "      <td>155</td>\n",
       "      <td>Nothing that is a soda is a juice</td>\n",
       "      <td>A portion of the things that are beverages ar...</td>\n",
       "      <td>The only logical conclusion is that some beve...</td>\n",
       "    </tr>\n",
       "    <tr>\n",
       "      <th>2</th>\n",
       "      <td>e30b1f83-a4c3-49cb-8aaf-5f64208c625b</td>\n",
       "      <td>Everything that is a planet is a celestial bod...</td>\n",
       "      <td>False</td>\n",
       "      <td>False</td>\n",
       "      <td>140</td>\n",
       "      <td>Everything that is a planet is a celestial body</td>\n",
       "      <td>Anything that is a sun is a celestial body</td>\n",
       "      <td>There exists at least one sun that is a planet.</td>\n",
       "    </tr>\n",
       "    <tr>\n",
       "      <th>3</th>\n",
       "      <td>a30e07d5-0fb3-4097-9892-4b145b0c54f5</td>\n",
       "      <td>Every cat is an invisible creature. A number o...</td>\n",
       "      <td>True</td>\n",
       "      <td>False</td>\n",
       "      <td>115</td>\n",
       "      <td>Every cat is an invisible creature</td>\n",
       "      <td>A number of cats are animals</td>\n",
       "      <td>Consequently, a portion of animals are invisi...</td>\n",
       "    </tr>\n",
       "    <tr>\n",
       "      <th>4</th>\n",
       "      <td>5b8161b7-b1bf-4e16-a854-cd52cdce8a1b</td>\n",
       "      <td>There are no capital cities which are oceans. ...</td>\n",
       "      <td>True</td>\n",
       "      <td>True</td>\n",
       "      <td>167</td>\n",
       "      <td>There are no capital cities which are oceans</td>\n",
       "      <td>A select few large cities are classified as c...</td>\n",
       "      <td>Therefore, it is clear that some large cities...</td>\n",
       "    </tr>\n",
       "  </tbody>\n",
       "</table>\n",
       "</div>"
      ],
      "text/plain": [
       "                                     id  \\\n",
       "0  50146f21-d265-4e3a-8d93-8165cdbe89a3   \n",
       "1  dfafb4f6-4e1d-4cd5-aeb4-75d36aafdf1a   \n",
       "2  e30b1f83-a4c3-49cb-8aaf-5f64208c625b   \n",
       "3  a30e07d5-0fb3-4097-9892-4b145b0c54f5   \n",
       "4  5b8161b7-b1bf-4e16-a854-cd52cdce8a1b   \n",
       "\n",
       "                                           syllogism  validity  plausibility  \\\n",
       "0  All cars are a type of vehicle. No animal is a...     False          True   \n",
       "1  Nothing that is a soda is a juice. A portion o...      True          True   \n",
       "2  Everything that is a planet is a celestial bod...     False         False   \n",
       "3  Every cat is an invisible creature. A number o...      True         False   \n",
       "4  There are no capital cities which are oceans. ...      True          True   \n",
       "\n",
       "   length                                               P1  \\\n",
       "0      90                   All cars are a type of vehicle   \n",
       "1     155                Nothing that is a soda is a juice   \n",
       "2     140  Everything that is a planet is a celestial body   \n",
       "3     115               Every cat is an invisible creature   \n",
       "4     167     There are no capital cities which are oceans   \n",
       "\n",
       "                                                  P2  \\\n",
       "0                                 No animal is a car   \n",
       "1   A portion of the things that are beverages ar...   \n",
       "2         Anything that is a sun is a celestial body   \n",
       "3                       A number of cats are animals   \n",
       "4   A select few large cities are classified as c...   \n",
       "\n",
       "                                                   C  \n",
       "0             Therefore, no animal can be a vehicle.  \n",
       "1   The only logical conclusion is that some beve...  \n",
       "2    There exists at least one sun that is a planet.  \n",
       "3   Consequently, a portion of animals are invisi...  \n",
       "4   Therefore, it is clear that some large cities...  "
      ]
     },
     "execution_count": 43,
     "metadata": {},
     "output_type": "execute_result"
    }
   ],
   "source": [
    "# Split the syllogism into parts\n",
    "df[['P1', 'P2', 'C']] = df['syllogism'].str.split('.', n=2, expand=True)\n",
    "df.head()"
   ]
  },
  {
   "cell_type": "code",
   "execution_count": 44,
   "id": "a8c3b939",
   "metadata": {},
   "outputs": [
    {
     "name": "stdout",
     "output_type": "stream",
     "text": [
      "Most common words in Premise 1: [('is', 999), ('a', 734), ('that', 572), ('are', 528), ('There', 221), ('Every', 216), ('no', 208), ('single', 185), ('of', 145), ('an', 124)]\n",
      "Most common words in Premise 2: [('are', 710), ('is', 697), ('a', 515), ('that', 459), ('of', 195), ('There', 195), ('Every', 166), ('single', 160), ('no', 136), ('It', 112)]\n",
      "Most common words in Conclusion: [('are', 727), ('that', 662), ('some', 424), ('is', 406), ('not', 331), ('a', 303), ('It', 267), ('no', 156), ('of', 150), ('Therefore,', 146)]\n"
     ]
    }
   ],
   "source": [
    "# Get the most common words in premises and conclusions\n",
    "def get_most_common_words(text_series, n=10):\n",
    "    words = ' '.join(text_series).split()\n",
    "    counter = Counter(words)\n",
    "    return counter.most_common(n)\n",
    "print(\"Most common words in Premise 1:\", most_common_p1 := get_most_common_words(df['P1']))\n",
    "print(\"Most common words in Premise 2:\", most_common_p2 := get_most_common_words(df['P2']))\n",
    "print(\"Most common words in Conclusion:\", most_common_c := get_most_common_words(df['C']))"
   ]
  },
  {
   "cell_type": "code",
   "execution_count": 45,
   "id": "5cd82289",
   "metadata": {},
   "outputs": [
    {
     "name": "stdout",
     "output_type": "stream",
     "text": [
      "Filtered most common words in Premise 1: [('Every', 216), ('single', 185), ('Anything', 114), ('animal', 86), ('mammal', 77), ('also', 63), ('fish', 61), ('true', 58), ('animals', 46), ('dog', 46)]\n",
      "Filtered most common words in Premise 2: [('Every', 166), ('single', 160), ('also', 107), ('animals', 60), ('Anything', 59), ('things', 58), ('fish', 55), ('animal', 51), ('true', 50), ('mammal', 43)]\n",
      "Filtered most common words in Conclusion: [('Therefore,', 146), ('follows', 133), ('Consequently,', 97), ('case', 97), ('every', 88), ('must', 60), ('mammals.', 55), ('means', 46), ('single', 44), ('animals.', 43)]\n"
     ]
    }
   ],
   "source": [
    "# Filter out stopwords of the most common words\n",
    "import nltk\n",
    "stopwords = set(nltk.corpus.stopwords.words(\"english\")) \n",
    "\n",
    "def get_most_common_words_no_stopwords(text_series, n=10):\n",
    "    words = ' '.join(text_series).split()\n",
    "    words = [word for word in words if word.lower() not in stopwords]\n",
    "    counter = Counter(words)\n",
    "    return counter.most_common(n)\n",
    "\n",
    "filtered_most_common_p1 = get_most_common_words_no_stopwords(df['P1'])\n",
    "filtered_most_common_p2 = get_most_common_words_no_stopwords(df['P2'])\n",
    "filtered_most_common_c = get_most_common_words_no_stopwords(df['C'])\n",
    "print(\"Filtered most common words in Premise 1:\", filtered_most_common_p1)\n",
    "print(\"Filtered most common words in Premise 2:\", filtered_most_common_p2)\n",
    "print(\"Filtered most common words in Conclusion:\", filtered_most_common_c)"
   ]
  },
  {
   "cell_type": "markdown",
   "id": "c521c2d6",
   "metadata": {},
   "source": [
    "Notes:\n",
    "\n",
    "In Bertolazzi et al. (2024) syllogisms only had specific forms. In this data this is not the case. For example (I) \"Some A are B\" can be in the form \"A number of A are B\". "
   ]
  },
  {
   "cell_type": "code",
   "execution_count": 46,
   "id": "0098dc24",
   "metadata": {},
   "outputs": [],
   "source": [
    "import re\n",
    "\n",
    "# Since not all premises contain the syllogism quantifiers we cannot use them\n",
    "# We can try to identify the mood based on keywords in the premises\n",
    "# Mapping of quantifiers to moods\n",
    "# Note: This is a simplified approach and may not cover all cases\n",
    "quantifiers = {\n",
    "    'A': ['all', 'every', 'each'],\n",
    "    'E': ['no', 'none', 'never'],\n",
    "    'I': ['some', 'a number of', 'a few', 'many', 'several'], # Note: I came up with some of these myself,\n",
    "    'O': ['not all', r'some.*not']  # Regex for \"some ... not\"\n",
    "}\n",
    "\n",
    "def premise_to_mood(premise):\n",
    "\n",
    "    premise = premise.lower()\n",
    "    for mood, words in quantifiers.items():\n",
    "        for word in words:\n",
    "            if word in premise or (mood == 'O' and re.search(word, premise)):\n",
    "                return mood\n",
    "    return None"
   ]
  },
  {
   "cell_type": "code",
   "execution_count": 47,
   "id": "292b7ff9",
   "metadata": {},
   "outputs": [
    {
     "name": "stdout",
     "output_type": "stream",
     "text": [
      "Mood determined for P1: 83.54%\n",
      "Mood determined for P2: 83.33%\n",
      "Mood determined for C: 93.85%\n",
      "Most common moods in P1: P1_mood\n",
      "E    376\n",
      "A    350\n",
      "I     76\n",
      "Name: count, dtype: int64\n",
      "Most common moods in P2: P2_mood\n",
      "A    372\n",
      "E    295\n",
      "I    133\n",
      "Name: count, dtype: int64\n",
      "Most common moods in C: C_mood\n",
      "E    474\n",
      "A    218\n",
      "I    209\n",
      "Name: count, dtype: int64\n",
      "Rows with both moods determined: 666 (69.38%)\n",
      "Rows without any mood: 1 (0.10%)\n",
      "Rows with only one mood: 281 (29.27%)\n",
      "Most common mood combinations: mood_combination\n",
      "EAE    105\n",
      "AEE     93\n",
      "EEE     60\n",
      "AAA     57\n",
      "EIE     32\n",
      "AAE     28\n",
      "IAI     28\n",
      "EEI     28\n",
      "AAI     27\n",
      "EAA     24\n",
      "EAI     17\n",
      "AIA     16\n",
      "AII     16\n",
      "AEA     14\n",
      "EIA     14\n",
      "EEA     12\n",
      "EII     12\n",
      "AEI      9\n",
      "IAA      8\n",
      "III      7\n",
      "IIE      6\n",
      "IEE      6\n",
      "AIE      5\n",
      "IEI      4\n",
      "IIA      2\n",
      "IEA      2\n",
      "Name: count, dtype: int64\n"
     ]
    },
    {
     "name": "stderr",
     "output_type": "stream",
     "text": [
      "/tmp/ipykernel_20212/2878686517.py:29: SettingWithCopyWarning: \n",
      "A value is trying to be set on a copy of a slice from a DataFrame.\n",
      "Try using .loc[row_indexer,col_indexer] = value instead\n",
      "\n",
      "See the caveats in the documentation: https://pandas.pydata.org/pandas-docs/stable/user_guide/indexing.html#returning-a-view-versus-a-copy\n",
      "  df_mood['mood_combination'] = df_mood['P1_mood'] + df_mood['P2_mood'] + df_mood['C_mood']\n"
     ]
    }
   ],
   "source": [
    "# Check if we can determine the mood for both premises\n",
    "df['P1_mood'] = df['P1'].apply(premise_to_mood)\n",
    "df['P2_mood'] = df['P2'].apply(premise_to_mood)\n",
    "df['C_mood'] = df['C'].apply(premise_to_mood)\n",
    "\n",
    "# Check how many moods we could determine\n",
    "print(f\"Mood determined for P1: {df['P1_mood'].notnull().mean():.2%}\")\n",
    "print(f\"Mood determined for P2: {df['P2_mood'].notnull().mean():.2%}\")\n",
    "print(f\"Mood determined for C: {df['C_mood'].notnull().mean():.2%}\")\n",
    "\n",
    "# Most common moods\n",
    "print(\"Most common moods in P1:\", df['P1_mood'].value_counts())\n",
    "print(\"Most common moods in P2:\", df['P2_mood'].value_counts())\n",
    "print(\"Most common moods in C:\", df['C_mood'].value_counts())\n",
    "\n",
    "# How many rows have both moods determined\n",
    "df_mood = df.dropna(subset=['P1_mood', 'P2_mood'])\n",
    "print(f\"Rows with both moods determined: {len(df_mood)} ({len(df_mood)/len(df):.2%})\")\n",
    "\n",
    "# Rows without any mood\n",
    "df_no_mood = df[df['P1_mood'].isnull() & df['P2_mood'].isnull() & df['C_mood'].isnull()]\n",
    "print(f\"Rows without any mood: {len(df_no_mood)} ({len(df_no_mood)/len(df):.2%})\")\n",
    "\n",
    "# Rows with only one mood\n",
    "df_one_mood = df[(df['P1_mood'].isnull()) ^ (df['P2_mood'].isnull()) ^ (df['C_mood'].isnull())]\n",
    "print(f\"Rows with only one mood: {len(df_one_mood)} ({len(df_one_mood)/len(df):.2%})\")\n",
    "\n",
    "# Mood combinations\n",
    "df_mood['mood_combination'] = df_mood['P1_mood'] + df_mood['P2_mood'] + df_mood['C_mood']\n",
    "print(\"Most common mood combinations:\", df_mood['mood_combination'].value_counts())"
   ]
  },
  {
   "cell_type": "code",
   "execution_count": 48,
   "id": "541100a2",
   "metadata": {},
   "outputs": [
    {
     "name": "stdout",
     "output_type": "stream",
     "text": [
      "Mood combination vs Validity:\n"
     ]
    },
    {
     "data": {
      "application/vnd.microsoft.datawrangler.viewer.v0+json": {
       "columns": [
        {
         "name": "mood_combination",
         "rawType": "object",
         "type": "string"
        },
        {
         "name": "False",
         "rawType": "float64",
         "type": "float"
        },
        {
         "name": "True",
         "rawType": "float64",
         "type": "float"
        }
       ],
       "ref": "55679680-fdd2-4969-94e5-2e69b14c9a15",
       "rows": [
        [
         "AAA",
         "0.8596491228070176",
         "0.14035087719298245"
        ],
        [
         "AAE",
         "0.6071428571428571",
         "0.39285714285714285"
        ],
        [
         "AAI",
         "0.37037037037037035",
         "0.6296296296296297"
        ],
        [
         "AEA",
         "0.7857142857142857",
         "0.21428571428571427"
        ],
        [
         "AEE",
         "0.3763440860215054",
         "0.6236559139784946"
        ],
        [
         "AEI",
         "0.3333333333333333",
         "0.6666666666666666"
        ],
        [
         "AIA",
         "0.9375",
         "0.0625"
        ],
        [
         "AIE",
         "0.6",
         "0.4"
        ],
        [
         "AII",
         "0.375",
         "0.625"
        ],
        [
         "EAA",
         "0.625",
         "0.375"
        ],
        [
         "EAE",
         "0.047619047619047616",
         "0.9523809523809523"
        ],
        [
         "EAI",
         "0.5882352941176471",
         "0.4117647058823529"
        ],
        [
         "EEA",
         "1.0",
         "0.0"
        ],
        [
         "EEE",
         "0.85",
         "0.15"
        ],
        [
         "EEI",
         "0.9642857142857143",
         "0.03571428571428571"
        ],
        [
         "EIA",
         "0.42857142857142855",
         "0.5714285714285714"
        ],
        [
         "EIE",
         "0.15625",
         "0.84375"
        ],
        [
         "EII",
         "1.0",
         "0.0"
        ],
        [
         "IAA",
         "0.875",
         "0.125"
        ],
        [
         "IAI",
         "0.0",
         "1.0"
        ],
        [
         "IEA",
         "1.0",
         "0.0"
        ],
        [
         "IEE",
         "1.0",
         "0.0"
        ],
        [
         "IEI",
         "1.0",
         "0.0"
        ],
        [
         "IIA",
         "1.0",
         "0.0"
        ],
        [
         "IIE",
         "1.0",
         "0.0"
        ],
        [
         "III",
         "1.0",
         "0.0"
        ]
       ],
       "shape": {
        "columns": 2,
        "rows": 26
       }
      },
      "text/html": [
       "<div>\n",
       "<style scoped>\n",
       "    .dataframe tbody tr th:only-of-type {\n",
       "        vertical-align: middle;\n",
       "    }\n",
       "\n",
       "    .dataframe tbody tr th {\n",
       "        vertical-align: top;\n",
       "    }\n",
       "\n",
       "    .dataframe thead th {\n",
       "        text-align: right;\n",
       "    }\n",
       "</style>\n",
       "<table border=\"1\" class=\"dataframe\">\n",
       "  <thead>\n",
       "    <tr style=\"text-align: right;\">\n",
       "      <th>validity</th>\n",
       "      <th>False</th>\n",
       "      <th>True</th>\n",
       "    </tr>\n",
       "    <tr>\n",
       "      <th>mood_combination</th>\n",
       "      <th></th>\n",
       "      <th></th>\n",
       "    </tr>\n",
       "  </thead>\n",
       "  <tbody>\n",
       "    <tr>\n",
       "      <th>AAA</th>\n",
       "      <td>0.859649</td>\n",
       "      <td>0.140351</td>\n",
       "    </tr>\n",
       "    <tr>\n",
       "      <th>AAE</th>\n",
       "      <td>0.607143</td>\n",
       "      <td>0.392857</td>\n",
       "    </tr>\n",
       "    <tr>\n",
       "      <th>AAI</th>\n",
       "      <td>0.370370</td>\n",
       "      <td>0.629630</td>\n",
       "    </tr>\n",
       "    <tr>\n",
       "      <th>AEA</th>\n",
       "      <td>0.785714</td>\n",
       "      <td>0.214286</td>\n",
       "    </tr>\n",
       "    <tr>\n",
       "      <th>AEE</th>\n",
       "      <td>0.376344</td>\n",
       "      <td>0.623656</td>\n",
       "    </tr>\n",
       "    <tr>\n",
       "      <th>AEI</th>\n",
       "      <td>0.333333</td>\n",
       "      <td>0.666667</td>\n",
       "    </tr>\n",
       "    <tr>\n",
       "      <th>AIA</th>\n",
       "      <td>0.937500</td>\n",
       "      <td>0.062500</td>\n",
       "    </tr>\n",
       "    <tr>\n",
       "      <th>AIE</th>\n",
       "      <td>0.600000</td>\n",
       "      <td>0.400000</td>\n",
       "    </tr>\n",
       "    <tr>\n",
       "      <th>AII</th>\n",
       "      <td>0.375000</td>\n",
       "      <td>0.625000</td>\n",
       "    </tr>\n",
       "    <tr>\n",
       "      <th>EAA</th>\n",
       "      <td>0.625000</td>\n",
       "      <td>0.375000</td>\n",
       "    </tr>\n",
       "    <tr>\n",
       "      <th>EAE</th>\n",
       "      <td>0.047619</td>\n",
       "      <td>0.952381</td>\n",
       "    </tr>\n",
       "    <tr>\n",
       "      <th>EAI</th>\n",
       "      <td>0.588235</td>\n",
       "      <td>0.411765</td>\n",
       "    </tr>\n",
       "    <tr>\n",
       "      <th>EEA</th>\n",
       "      <td>1.000000</td>\n",
       "      <td>0.000000</td>\n",
       "    </tr>\n",
       "    <tr>\n",
       "      <th>EEE</th>\n",
       "      <td>0.850000</td>\n",
       "      <td>0.150000</td>\n",
       "    </tr>\n",
       "    <tr>\n",
       "      <th>EEI</th>\n",
       "      <td>0.964286</td>\n",
       "      <td>0.035714</td>\n",
       "    </tr>\n",
       "    <tr>\n",
       "      <th>EIA</th>\n",
       "      <td>0.428571</td>\n",
       "      <td>0.571429</td>\n",
       "    </tr>\n",
       "    <tr>\n",
       "      <th>EIE</th>\n",
       "      <td>0.156250</td>\n",
       "      <td>0.843750</td>\n",
       "    </tr>\n",
       "    <tr>\n",
       "      <th>EII</th>\n",
       "      <td>1.000000</td>\n",
       "      <td>0.000000</td>\n",
       "    </tr>\n",
       "    <tr>\n",
       "      <th>IAA</th>\n",
       "      <td>0.875000</td>\n",
       "      <td>0.125000</td>\n",
       "    </tr>\n",
       "    <tr>\n",
       "      <th>IAI</th>\n",
       "      <td>0.000000</td>\n",
       "      <td>1.000000</td>\n",
       "    </tr>\n",
       "    <tr>\n",
       "      <th>IEA</th>\n",
       "      <td>1.000000</td>\n",
       "      <td>0.000000</td>\n",
       "    </tr>\n",
       "    <tr>\n",
       "      <th>IEE</th>\n",
       "      <td>1.000000</td>\n",
       "      <td>0.000000</td>\n",
       "    </tr>\n",
       "    <tr>\n",
       "      <th>IEI</th>\n",
       "      <td>1.000000</td>\n",
       "      <td>0.000000</td>\n",
       "    </tr>\n",
       "    <tr>\n",
       "      <th>IIA</th>\n",
       "      <td>1.000000</td>\n",
       "      <td>0.000000</td>\n",
       "    </tr>\n",
       "    <tr>\n",
       "      <th>IIE</th>\n",
       "      <td>1.000000</td>\n",
       "      <td>0.000000</td>\n",
       "    </tr>\n",
       "    <tr>\n",
       "      <th>III</th>\n",
       "      <td>1.000000</td>\n",
       "      <td>0.000000</td>\n",
       "    </tr>\n",
       "  </tbody>\n",
       "</table>\n",
       "</div>"
      ],
      "text/plain": [
       "validity             False     True \n",
       "mood_combination                    \n",
       "AAA               0.859649  0.140351\n",
       "AAE               0.607143  0.392857\n",
       "AAI               0.370370  0.629630\n",
       "AEA               0.785714  0.214286\n",
       "AEE               0.376344  0.623656\n",
       "AEI               0.333333  0.666667\n",
       "AIA               0.937500  0.062500\n",
       "AIE               0.600000  0.400000\n",
       "AII               0.375000  0.625000\n",
       "EAA               0.625000  0.375000\n",
       "EAE               0.047619  0.952381\n",
       "EAI               0.588235  0.411765\n",
       "EEA               1.000000  0.000000\n",
       "EEE               0.850000  0.150000\n",
       "EEI               0.964286  0.035714\n",
       "EIA               0.428571  0.571429\n",
       "EIE               0.156250  0.843750\n",
       "EII               1.000000  0.000000\n",
       "IAA               0.875000  0.125000\n",
       "IAI               0.000000  1.000000\n",
       "IEA               1.000000  0.000000\n",
       "IEE               1.000000  0.000000\n",
       "IEI               1.000000  0.000000\n",
       "IIA               1.000000  0.000000\n",
       "IIE               1.000000  0.000000\n",
       "III               1.000000  0.000000"
      ]
     },
     "execution_count": 48,
     "metadata": {},
     "output_type": "execute_result"
    }
   ],
   "source": [
    "# See if there is a correlation between mood combinations and validity/plausibility\n",
    "mood_validity_table = pd.crosstab(df_mood['mood_combination'], df_mood['validity'], normalize='index')\n",
    "print(\"Mood combination vs Validity:\")\n",
    "mood_validity_table"
   ]
  },
  {
   "cell_type": "code",
   "execution_count": 49,
   "id": "8991d954",
   "metadata": {},
   "outputs": [
    {
     "name": "stdout",
     "output_type": "stream",
     "text": [
      "Mood combination vs Plausibility:\n"
     ]
    },
    {
     "data": {
      "application/vnd.microsoft.datawrangler.viewer.v0+json": {
       "columns": [
        {
         "name": "mood_combination",
         "rawType": "object",
         "type": "string"
        },
        {
         "name": "False",
         "rawType": "float64",
         "type": "float"
        },
        {
         "name": "True",
         "rawType": "float64",
         "type": "float"
        }
       ],
       "ref": "b706a8c9-ce3b-44e5-9a4d-77130c45752b",
       "rows": [
        [
         "AAA",
         "0.5964912280701754",
         "0.40350877192982454"
        ],
        [
         "AAE",
         "0.4642857142857143",
         "0.5357142857142857"
        ],
        [
         "AAI",
         "0.4444444444444444",
         "0.5555555555555556"
        ],
        [
         "AEA",
         "0.5",
         "0.5"
        ],
        [
         "AEE",
         "0.5268817204301075",
         "0.4731182795698925"
        ],
        [
         "AEI",
         "0.3333333333333333",
         "0.6666666666666666"
        ],
        [
         "AIA",
         "0.375",
         "0.625"
        ],
        [
         "AIE",
         "1.0",
         "0.0"
        ],
        [
         "AII",
         "0.25",
         "0.75"
        ],
        [
         "EAA",
         "0.5416666666666666",
         "0.4583333333333333"
        ],
        [
         "EAE",
         "0.4857142857142857",
         "0.5142857142857142"
        ],
        [
         "EAI",
         "0.29411764705882354",
         "0.7058823529411765"
        ],
        [
         "EEA",
         "0.75",
         "0.25"
        ],
        [
         "EEE",
         "0.43333333333333335",
         "0.5666666666666667"
        ],
        [
         "EEI",
         "0.5357142857142857",
         "0.4642857142857143"
        ],
        [
         "EIA",
         "0.7142857142857143",
         "0.2857142857142857"
        ],
        [
         "EIE",
         "0.53125",
         "0.46875"
        ],
        [
         "EII",
         "0.4166666666666667",
         "0.5833333333333334"
        ],
        [
         "IAA",
         "0.375",
         "0.625"
        ],
        [
         "IAI",
         "0.4642857142857143",
         "0.5357142857142857"
        ],
        [
         "IEA",
         "1.0",
         "0.0"
        ],
        [
         "IEE",
         "0.0",
         "1.0"
        ],
        [
         "IEI",
         "0.5",
         "0.5"
        ],
        [
         "IIA",
         "0.0",
         "1.0"
        ],
        [
         "IIE",
         "0.6666666666666666",
         "0.3333333333333333"
        ],
        [
         "III",
         "0.7142857142857143",
         "0.2857142857142857"
        ]
       ],
       "shape": {
        "columns": 2,
        "rows": 26
       }
      },
      "text/html": [
       "<div>\n",
       "<style scoped>\n",
       "    .dataframe tbody tr th:only-of-type {\n",
       "        vertical-align: middle;\n",
       "    }\n",
       "\n",
       "    .dataframe tbody tr th {\n",
       "        vertical-align: top;\n",
       "    }\n",
       "\n",
       "    .dataframe thead th {\n",
       "        text-align: right;\n",
       "    }\n",
       "</style>\n",
       "<table border=\"1\" class=\"dataframe\">\n",
       "  <thead>\n",
       "    <tr style=\"text-align: right;\">\n",
       "      <th>plausibility</th>\n",
       "      <th>False</th>\n",
       "      <th>True</th>\n",
       "    </tr>\n",
       "    <tr>\n",
       "      <th>mood_combination</th>\n",
       "      <th></th>\n",
       "      <th></th>\n",
       "    </tr>\n",
       "  </thead>\n",
       "  <tbody>\n",
       "    <tr>\n",
       "      <th>AAA</th>\n",
       "      <td>0.596491</td>\n",
       "      <td>0.403509</td>\n",
       "    </tr>\n",
       "    <tr>\n",
       "      <th>AAE</th>\n",
       "      <td>0.464286</td>\n",
       "      <td>0.535714</td>\n",
       "    </tr>\n",
       "    <tr>\n",
       "      <th>AAI</th>\n",
       "      <td>0.444444</td>\n",
       "      <td>0.555556</td>\n",
       "    </tr>\n",
       "    <tr>\n",
       "      <th>AEA</th>\n",
       "      <td>0.500000</td>\n",
       "      <td>0.500000</td>\n",
       "    </tr>\n",
       "    <tr>\n",
       "      <th>AEE</th>\n",
       "      <td>0.526882</td>\n",
       "      <td>0.473118</td>\n",
       "    </tr>\n",
       "    <tr>\n",
       "      <th>AEI</th>\n",
       "      <td>0.333333</td>\n",
       "      <td>0.666667</td>\n",
       "    </tr>\n",
       "    <tr>\n",
       "      <th>AIA</th>\n",
       "      <td>0.375000</td>\n",
       "      <td>0.625000</td>\n",
       "    </tr>\n",
       "    <tr>\n",
       "      <th>AIE</th>\n",
       "      <td>1.000000</td>\n",
       "      <td>0.000000</td>\n",
       "    </tr>\n",
       "    <tr>\n",
       "      <th>AII</th>\n",
       "      <td>0.250000</td>\n",
       "      <td>0.750000</td>\n",
       "    </tr>\n",
       "    <tr>\n",
       "      <th>EAA</th>\n",
       "      <td>0.541667</td>\n",
       "      <td>0.458333</td>\n",
       "    </tr>\n",
       "    <tr>\n",
       "      <th>EAE</th>\n",
       "      <td>0.485714</td>\n",
       "      <td>0.514286</td>\n",
       "    </tr>\n",
       "    <tr>\n",
       "      <th>EAI</th>\n",
       "      <td>0.294118</td>\n",
       "      <td>0.705882</td>\n",
       "    </tr>\n",
       "    <tr>\n",
       "      <th>EEA</th>\n",
       "      <td>0.750000</td>\n",
       "      <td>0.250000</td>\n",
       "    </tr>\n",
       "    <tr>\n",
       "      <th>EEE</th>\n",
       "      <td>0.433333</td>\n",
       "      <td>0.566667</td>\n",
       "    </tr>\n",
       "    <tr>\n",
       "      <th>EEI</th>\n",
       "      <td>0.535714</td>\n",
       "      <td>0.464286</td>\n",
       "    </tr>\n",
       "    <tr>\n",
       "      <th>EIA</th>\n",
       "      <td>0.714286</td>\n",
       "      <td>0.285714</td>\n",
       "    </tr>\n",
       "    <tr>\n",
       "      <th>EIE</th>\n",
       "      <td>0.531250</td>\n",
       "      <td>0.468750</td>\n",
       "    </tr>\n",
       "    <tr>\n",
       "      <th>EII</th>\n",
       "      <td>0.416667</td>\n",
       "      <td>0.583333</td>\n",
       "    </tr>\n",
       "    <tr>\n",
       "      <th>IAA</th>\n",
       "      <td>0.375000</td>\n",
       "      <td>0.625000</td>\n",
       "    </tr>\n",
       "    <tr>\n",
       "      <th>IAI</th>\n",
       "      <td>0.464286</td>\n",
       "      <td>0.535714</td>\n",
       "    </tr>\n",
       "    <tr>\n",
       "      <th>IEA</th>\n",
       "      <td>1.000000</td>\n",
       "      <td>0.000000</td>\n",
       "    </tr>\n",
       "    <tr>\n",
       "      <th>IEE</th>\n",
       "      <td>0.000000</td>\n",
       "      <td>1.000000</td>\n",
       "    </tr>\n",
       "    <tr>\n",
       "      <th>IEI</th>\n",
       "      <td>0.500000</td>\n",
       "      <td>0.500000</td>\n",
       "    </tr>\n",
       "    <tr>\n",
       "      <th>IIA</th>\n",
       "      <td>0.000000</td>\n",
       "      <td>1.000000</td>\n",
       "    </tr>\n",
       "    <tr>\n",
       "      <th>IIE</th>\n",
       "      <td>0.666667</td>\n",
       "      <td>0.333333</td>\n",
       "    </tr>\n",
       "    <tr>\n",
       "      <th>III</th>\n",
       "      <td>0.714286</td>\n",
       "      <td>0.285714</td>\n",
       "    </tr>\n",
       "  </tbody>\n",
       "</table>\n",
       "</div>"
      ],
      "text/plain": [
       "plausibility         False     True \n",
       "mood_combination                    \n",
       "AAA               0.596491  0.403509\n",
       "AAE               0.464286  0.535714\n",
       "AAI               0.444444  0.555556\n",
       "AEA               0.500000  0.500000\n",
       "AEE               0.526882  0.473118\n",
       "AEI               0.333333  0.666667\n",
       "AIA               0.375000  0.625000\n",
       "AIE               1.000000  0.000000\n",
       "AII               0.250000  0.750000\n",
       "EAA               0.541667  0.458333\n",
       "EAE               0.485714  0.514286\n",
       "EAI               0.294118  0.705882\n",
       "EEA               0.750000  0.250000\n",
       "EEE               0.433333  0.566667\n",
       "EEI               0.535714  0.464286\n",
       "EIA               0.714286  0.285714\n",
       "EIE               0.531250  0.468750\n",
       "EII               0.416667  0.583333\n",
       "IAA               0.375000  0.625000\n",
       "IAI               0.464286  0.535714\n",
       "IEA               1.000000  0.000000\n",
       "IEE               0.000000  1.000000\n",
       "IEI               0.500000  0.500000\n",
       "IIA               0.000000  1.000000\n",
       "IIE               0.666667  0.333333\n",
       "III               0.714286  0.285714"
      ]
     },
     "execution_count": 49,
     "metadata": {},
     "output_type": "execute_result"
    }
   ],
   "source": [
    "# Mood combination vs Plausibility\n",
    "mood_plausibility_table = pd.crosstab(df_mood['mood_combination'], df_mood['plausibility'], normalize='index')\n",
    "print(\"Mood combination vs Plausibility:\")\n",
    "mood_plausibility_table"
   ]
  },
  {
   "cell_type": "code",
   "execution_count": 50,
   "id": "54ce8541",
   "metadata": {},
   "outputs": [
    {
     "data": {
      "image/png": "[encoded data removed]",
      "text/plain": [
       "<Figure size 1000x600 with 2 Axes>"
      ]
     },
     "metadata": {},
     "output_type": "display_data"
    }
   ],
   "source": [
    "# Visualization of mood combinations vs validity\n",
    "plt.figure(figsize=(10, 6))\n",
    "sns.heatmap(mood_validity_table, annot=True, cmap='Blues', cbar_kws={'label': 'Proportion'})\n",
    "plt.title('Mood Combination vs Validity')\n",
    "plt.xlabel('Validity')\n",
    "plt.ylabel('Mood Combination')\n",
    "plt.show()"
   ]
  },
  {
   "cell_type": "code",
   "execution_count": 51,
   "id": "82792d8e",
   "metadata": {},
   "outputs": [
    {
     "data": {
      "image/png": "[encoded data removed]",
      "text/plain": [
       "<Figure size 1000x600 with 2 Axes>"
      ]
     },
     "metadata": {},
     "output_type": "display_data"
    }
   ],
   "source": [
    "# Visualization for plausibility\n",
    "plt.figure(figsize=(10, 6))\n",
    "sns.heatmap(mood_plausibility_table, annot=True, cmap='Greens',\n",
    "            cbar_kws={'label': 'Proportion'})\n",
    "plt.title('Mood Combination vs Plausibility')\n",
    "plt.xlabel('Plausibility')\n",
    "plt.ylabel('Mood Combination')\n",
    "plt.show()"
   ]
  },
  {
   "cell_type": "code",
   "execution_count": 52,
   "id": "f536bbf0",
   "metadata": {},
   "outputs": [
    {
     "name": "stdout",
     "output_type": "stream",
     "text": [
      "has_all        271\n",
      "has_no         682\n",
      "has_some       515\n",
      "has_not all     13\n",
      "has_every      492\n",
      "dtype: int64\n",
      "All syllogisms have at least one quantifier: False\n",
      "Number of syllogisms without a quantifier: 2\n",
      "P1 without quantifier: 181\n",
      "P2 without quantifier: 208\n",
      "All syllogisms have quantifiers in both premises: False\n"
     ]
    }
   ],
   "source": [
    "\n",
    "quantifiers = ['all', 'no', 'some', 'not all', 'every']\n",
    "for q in quantifiers:\n",
    "    df[f'has_{q}'] = df['syllogism'].str.contains(q, case=False, regex=False)\n",
    "print(df[[f'has_{q}' for q in quantifiers]].sum())\n",
    "\n",
    "# Check if every syllogism has at least one quantifier\n",
    "print(\"All syllogisms have at least one quantifier: \", end=\"\")\n",
    "print((df[[f'has_{q}' for q in quantifiers]].sum(axis=1) > 0).all())\n",
    "\n",
    "\n",
    "# Show how many syllogisms do not have a quantifier\n",
    "syllogisms_with_no_q = (df[[f'has_{q}' for q in quantifiers]].sum(axis=1) == 0).sum()\n",
    "print(\"Number of syllogisms without a quantifier:\", syllogisms_with_no_q)\n",
    "\n",
    "# Check that both premisies have a quantifier\n",
    "def has_quantifier(p):\n",
    "    return any(q in p.lower() for q in quantifiers)\n",
    "df['P1_has_q'] = df['P1'].apply(has_quantifier)\n",
    "df['P2_has_q'] = df['P2'].apply(has_quantifier)\n",
    "print(\"P1 without quantifier:\", (~df['P1_has_q']).sum())\n",
    "print(\"P2 without quantifier:\", (~df['P2_has_q']).sum())\n",
    "print(\"All syllogisms have quantifiers in both premises: \", end=\"\")\n",
    "print((df['P1_has_q'] & df['P2_has_q']).all())"
   ]
  },
  {
   "cell_type": "markdown",
   "id": "0c448118",
   "metadata": {},
   "source": [
    "Notes:\n",
    "\n",
    "I think it's strange that of AA 0.66 is invalid because 2/3 AA-x syllogisms have a valid conclusion to them. Or is this because the conclusion is not valid for the given premise? Because then for example AA1 -> NVC would have validity false because it should be Aac, Iac, Ica"
   ]
  },
  {
   "cell_type": "code",
   "execution_count": 53,
   "id": "f1e52e31",
   "metadata": {},
   "outputs": [
    {
     "name": "stdout",
     "output_type": "stream",
     "text": [
      "Examples of AA syllogisms with validity false:\n"
     ]
    },
    {
     "data": {
      "application/vnd.microsoft.datawrangler.viewer.v0+json": {
       "columns": [
        {
         "name": "index",
         "rawType": "int64",
         "type": "integer"
        },
        {
         "name": "syllogism",
         "rawType": "object",
         "type": "string"
        },
        {
         "name": "validity",
         "rawType": "bool",
         "type": "boolean"
        },
        {
         "name": "plausibility",
         "rawType": "bool",
         "type": "boolean"
        }
       ],
       "ref": "26794b47-8cfd-4746-9385-1b917e7ae642",
       "rows": [
        [
         "7",
         "Every single cat is an animal. Anything that can be called a dog is, without exception, an animal. Every dog is a cat.",
         "False",
         "False"
        ],
        [
         "12",
         "Every single car is a vehicle. Everything that is a bicycle is a vehicle. It is the case that some bicycles are not cars.",
         "False",
         "True"
        ],
        [
         "15",
         "Every insect is an animal. All mammals are animals. Consequently, every single mammal is an insect.",
         "False",
         "False"
        ],
        [
         "17",
         "It is not the case that every human is a male. Every single human is a creature with ten legs. From this, it follows that some creatures with ten legs are males.",
         "False",
         "False"
        ],
        [
         "65",
         "Every single animal is a living thing. Everything that is a human is also a living thing. Consequently, every human is an animal.",
         "False",
         "True"
        ],
        [
         "78",
         "Every tiger is a feline. All tigers are also mammals. Therefore, all mammals are felines.",
         "False",
         "False"
        ],
        [
         "79",
         "It is not the case that every single scientist is an engineer. Every scientist is an elevator. It follows from this that some elevators are engineers.",
         "False",
         "False"
        ],
        [
         "97",
         "Every single fruit is a thing that grows on trees. All apples are things that grow on trees. At least one apple is a fruit.",
         "False",
         "True"
        ],
        [
         "98",
         "Every airplane is a cloud. It is true that every bird is a cloud. This means that every single bird is an airplane.",
         "False",
         "False"
        ],
        [
         "123",
         "All of the things that are lions are felines. All of the things that are cats are felines. It can be deduced that there are cats that are lions.",
         "False",
         "True"
        ]
       ],
       "shape": {
        "columns": 3,
        "rows": 10
       }
      },
      "text/html": [
       "<div>\n",
       "<style scoped>\n",
       "    .dataframe tbody tr th:only-of-type {\n",
       "        vertical-align: middle;\n",
       "    }\n",
       "\n",
       "    .dataframe tbody tr th {\n",
       "        vertical-align: top;\n",
       "    }\n",
       "\n",
       "    .dataframe thead th {\n",
       "        text-align: right;\n",
       "    }\n",
       "</style>\n",
       "<table border=\"1\" class=\"dataframe\">\n",
       "  <thead>\n",
       "    <tr style=\"text-align: right;\">\n",
       "      <th></th>\n",
       "      <th>syllogism</th>\n",
       "      <th>validity</th>\n",
       "      <th>plausibility</th>\n",
       "    </tr>\n",
       "  </thead>\n",
       "  <tbody>\n",
       "    <tr>\n",
       "      <th>7</th>\n",
       "      <td>Every single cat is an animal. Anything that c...</td>\n",
       "      <td>False</td>\n",
       "      <td>False</td>\n",
       "    </tr>\n",
       "    <tr>\n",
       "      <th>12</th>\n",
       "      <td>Every single car is a vehicle. Everything that...</td>\n",
       "      <td>False</td>\n",
       "      <td>True</td>\n",
       "    </tr>\n",
       "    <tr>\n",
       "      <th>15</th>\n",
       "      <td>Every insect is an animal. All mammals are ani...</td>\n",
       "      <td>False</td>\n",
       "      <td>False</td>\n",
       "    </tr>\n",
       "    <tr>\n",
       "      <th>17</th>\n",
       "      <td>It is not the case that every human is a male....</td>\n",
       "      <td>False</td>\n",
       "      <td>False</td>\n",
       "    </tr>\n",
       "    <tr>\n",
       "      <th>65</th>\n",
       "      <td>Every single animal is a living thing. Everyth...</td>\n",
       "      <td>False</td>\n",
       "      <td>True</td>\n",
       "    </tr>\n",
       "    <tr>\n",
       "      <th>78</th>\n",
       "      <td>Every tiger is a feline. All tigers are also m...</td>\n",
       "      <td>False</td>\n",
       "      <td>False</td>\n",
       "    </tr>\n",
       "    <tr>\n",
       "      <th>79</th>\n",
       "      <td>It is not the case that every single scientist...</td>\n",
       "      <td>False</td>\n",
       "      <td>False</td>\n",
       "    </tr>\n",
       "    <tr>\n",
       "      <th>97</th>\n",
       "      <td>Every single fruit is a thing that grows on tr...</td>\n",
       "      <td>False</td>\n",
       "      <td>True</td>\n",
       "    </tr>\n",
       "    <tr>\n",
       "      <th>98</th>\n",
       "      <td>Every airplane is a cloud. It is true that eve...</td>\n",
       "      <td>False</td>\n",
       "      <td>False</td>\n",
       "    </tr>\n",
       "    <tr>\n",
       "      <th>123</th>\n",
       "      <td>All of the things that are lions are felines. ...</td>\n",
       "      <td>False</td>\n",
       "      <td>True</td>\n",
       "    </tr>\n",
       "  </tbody>\n",
       "</table>\n",
       "</div>"
      ],
      "text/plain": [
       "                                             syllogism  validity  plausibility\n",
       "7    Every single cat is an animal. Anything that c...     False         False\n",
       "12   Every single car is a vehicle. Everything that...     False          True\n",
       "15   Every insect is an animal. All mammals are ani...     False         False\n",
       "17   It is not the case that every human is a male....     False         False\n",
       "65   Every single animal is a living thing. Everyth...     False          True\n",
       "78   Every tiger is a feline. All tigers are also m...     False         False\n",
       "79   It is not the case that every single scientist...     False         False\n",
       "97   Every single fruit is a thing that grows on tr...     False          True\n",
       "98   Every airplane is a cloud. It is true that eve...     False         False\n",
       "123  All of the things that are lions are felines. ...     False          True"
      ]
     },
     "execution_count": 53,
     "metadata": {},
     "output_type": "execute_result"
    }
   ],
   "source": [
    "# View some examples of AA syllogisms with validity false\n",
    "print(\"Examples of AA syllogisms with validity false:\")\n",
    "df[(df['P1_mood'] == 'A' ) & (df['P2_mood'] == 'A') & (df['validity'] == False)][['syllogism', 'validity', 'plausibility']].head(10)"
   ]
  },
  {
   "cell_type": "markdown",
   "id": "6dc4f1d9",
   "metadata": {},
   "source": []
  },
  {
   "cell_type": "markdown",
   "id": "69bf4344",
   "metadata": {},
   "source": [
    "Since not all premises contain the syllogism quantifiers we cannot use them"
   ]
  },
  {
   "cell_type": "markdown",
   "id": "76b82648",
   "metadata": {},
   "source": []
  }
 ],
 "metadata": {
  "kernelspec": {
   "display_name": ".venv",
   "language": "python",
   "name": "python3"
  },
  "language_info": {
   "codemirror_mode": {
    "name": "ipython",
    "version": 3
   },
   "file_extension": ".py",
   "mimetype": "text/x-python",
   "name": "python",
   "nbconvert_exporter": "python",
   "pygments_lexer": "ipython3",
   "version": "3.12.6"
  }
 },
 "nbformat": 4,
 "nbformat_minor": 5
}
